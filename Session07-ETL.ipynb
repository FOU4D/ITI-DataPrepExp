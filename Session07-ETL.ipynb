{
 "cells": [
  {
   "cell_type": "markdown",
   "metadata": {},
   "source": [
    "<img src=\"https://drive.google.com/uc?id=1v7YY_rNBU2OMaPnbUGmzaBj3PUeddxrw\" alt=\"ITI MCIT EPITA\" style=\"width: 750px;\"/>\n",
    "\n",
    "___"
   ]
  },
  {
   "cell_type": "markdown",
   "metadata": {},
   "source": [
    "# Data Preparation & Exploration\n",
    "\n",
    "**By**: Mohamed Fouad Fakhruldeen, mohamed.fakhruldeen@epita.fr\n",
    "____\n",
    "\n",
    "## Session 07"
   ]
  },
  {
   "cell_type": "markdown",
   "metadata": {},
   "source": [
    "#### Topics: \n",
    "\n",
    "* Discovering Talend Studio \n",
    "* Designing the practical work 1 use-case in the studio \n",
    "* Launching the workflow from the studio \n",
    "* Deploying the workflow"
   ]
  },
  {
   "attachments": {
    "ETL-Simple.png": {
     "image/png": "[encoded data removed]"
    }
   },
   "cell_type": "markdown",
   "metadata": {},
   "source": [
    "![ETL-Simple.png](attachment:ETL-Simple.png)"
   ]
  },
  {
   "cell_type": "markdown",
   "metadata": {},
   "source": [
    "## Why do you need ETL?\n",
    "\n",
    "https://www.guru99.com/etl-extract-load-process.html\n",
    "\n",
    "    It helps companies to analyze their business data for taking critical business decisions.\n",
    "    Transactional databases cannot answer complex business questions that can be answered by ETL example.\n",
    "    A Data Warehouse provides a common data repository\n",
    "    ETL provides a method of moving the data from various sources into a data warehouse.\n",
    "    As data sources change, the Data Warehouse will automatically update.\n",
    "    Well-designed and documented ETL system is almost essential to the success of a Data Warehouse project.\n",
    "    Allow verification of data transformation, aggregation and calculations rules.\n",
    "    ETL process allows sample data comparison between the source and the target system.\n",
    "    ETL process can perform complex transformations and requires the extra area to store the data.\n",
    "    ETL helps to Migrate data into a Data Warehouse. Convert to the various formats and types to adhere to one consistent system.\n",
    "    ETL is a predefined process for accessing and manipulating source data into the target database.\n",
    "    ETL in data warehouse offers deep historical context for the business.\n",
    "    It helps to improve productivity because it codifies and reuses without a need for technical skills."
   ]
  },
  {
   "cell_type": "markdown",
   "metadata": {},
   "source": [
    "## Step 1) Extraction\n"
   ]
  },
  {
   "cell_type": "markdown",
   "metadata": {},
   "source": [
    "Three Data Extraction methods:\n",
    "\n",
    "    Full Extraction\n",
    "    Partial Extraction- without update notification.\n",
    "    Partial Extraction- with update notification\n"
   ]
  },
  {
   "cell_type": "markdown",
   "metadata": {},
   "source": [
    "## Step 2) Transformation"
   ]
  },
  {
   "cell_type": "markdown",
   "metadata": {},
   "source": [
    "Data extracted from source server is raw and not usable in its original form. Therefore it needs to be cleansed, mapped and transformed. In fact, this is the key step where ETL process adds value and changes data such that insightful BI reports can be generated."
   ]
  },
  {
   "cell_type": "markdown",
   "metadata": {},
   "source": [
    "## Step 3) Loading"
   ]
  },
  {
   "cell_type": "markdown",
   "metadata": {},
   "source": [
    "Loading data into the target datawarehouse database is the last step of the ETL process. In a typical Data warehouse, huge volume of data needs to be loaded in a relatively short period (nights). Hence, load process should be optimized for performance.\n",
    "\n"
   ]
  },
  {
   "cell_type": "markdown",
   "metadata": {},
   "source": [
    "Types of Loading:\n",
    "\n",
    "    Initial Load — populating all the Data Warehouse tables\n",
    "    Incremental Load — applying ongoing changes as when needed periodically.\n",
    "    Full Refresh —erasing the contents of one or more tables and reloading with fresh data."
   ]
  },
  {
   "cell_type": "markdown",
   "metadata": {},
   "source": [
    "Load verification\n",
    "\n",
    "    Ensure that the key field data is neither missing nor null.\n",
    "    Test modeling views based on the target tables.\n",
    "    Check that combined values and calculated measures.\n",
    "    Data checks in dimension table as well as history table.\n",
    "    Check the BI reports on the loaded fact and dimension table."
   ]
  },
  {
   "cell_type": "markdown",
   "metadata": {},
   "source": [
    "### The ETL Process\n",
    "\n",
    "The traditional ETL process is based on batch processing. ETL jobs run daily, weekly or monthly, and process large volumes of data from source systems. The process is:\n",
    "\n",
    "1. Reference data — Create a set of reference data that defines permissible values your data may contain\n",
    "2. Data extraction — Extract data from sources, converting it from multiple formats like RDBMS, XML, JSON, CSV, etc. to a single standardized format\n",
    "3. Data validation — Validate data to ensure it contains the expected information in the correct format—otherwise subsequent ETL steps will not work\n",
    "4. Data transformation — Transform data by cleaning it, verifying its integrity, and aggregating or restructuring it to facilitate easy analysis\n",
    "5. Staging — Load data to a staging environment, to make it easier to roll back if something goes wrong\n",
    "6. Load to data warehouse — if everything looks good, push the data to your production data warehouse, either overwriting older data, or retaining it and managing historical versions with timestamps\n",
    "\n",
    "[source](https://panoply.io/data-warehouse-guide/etl-tutorial/)"
   ]
  },
  {
   "cell_type": "markdown",
   "metadata": {},
   "source": [
    "## Talend Open Studio\n",
    "\n",
    "https://www.youtube.com/watch?v=bqa0kB59SUc"
   ]
  },
  {
   "cell_type": "markdown",
   "metadata": {},
   "source": [
    "### Talend Open Studio- Architecture:\n",
    "\n",
    "#### Clients:\n",
    "\n",
    "The Clients block includes one or more Talend Studio(s) and Web browsers which uses same or different machines. Talend Studio allows you to perform data integration processes irrespective of the level of data volumes and process complexity.\n",
    "\n",
    "#### Talend Server:\n",
    "\n",
    "The Talend server is another important block which includes a web-based application server. It enables the administration and maintenance of all projects. It includes user accounts, access rights, and project authorization in the Administration database.\n",
    "\n",
    "#### Database:\n",
    "\n",
    "The Databases component includes the Administration, the Audit and the Monitoring of databases. This component helps to manage user accounts, access rights, and project authorization. The Audit database helps to evaluate different aspects of the Jobs for developing an ideal process-oriented decision support system.\n",
    "\n",
    "#### Workspace:\n",
    "\n",
    "In Talend, a workspace is a directory where you store all project folders. However, for that, you will require at least at least one workspace directory per connection (repository connection). Talend allows connecting with various workspace directories in case if you don't want to use the default directories.\n",
    "\n",
    "#### Repository:\n",
    "\n",
    "A repository is the storage area which TOS tool uses to gather data to explain business models or to design Jobs. "
   ]
  },
  {
   "cell_type": "markdown",
   "metadata": {},
   "source": [
    "https://www.javatpoint.com/talend-open-studio"
   ]
  },
  {
   "cell_type": "markdown",
   "metadata": {},
   "source": [
    "https://www.talendbyexample.com/installing-talend.html"
   ]
  },
  {
   "cell_type": "markdown",
   "metadata": {},
   "source": [
    "https://www.edureka.co/blog/talend-etl-tool/"
   ]
  },
  {
   "cell_type": "code",
   "execution_count": null,
   "metadata": {},
   "outputs": [],
   "source": []
  }
 ],
 "metadata": {
  "kernelspec": {
   "display_name": "Python 3",
   "language": "python",
   "name": "python3"
  },
  "language_info": {
   "codemirror_mode": {
    "name": "ipython",
    "version": 3
   },
   "file_extension": ".py",
   "mimetype": "text/x-python",
   "name": "python",
   "nbconvert_exporter": "python",
   "pygments_lexer": "ipython3",
   "version": "3.8.8"
  }
 },
 "nbformat": 4,
 "nbformat_minor": 4
}
