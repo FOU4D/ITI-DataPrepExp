{
 "cells": [
  {
   "cell_type": "markdown",
   "metadata": {},
   "source": [
    "<img src=\"https://drive.google.com/uc?id=1v7YY_rNBU2OMaPnbUGmzaBj3PUeddxrw\" alt=\"ITI MCIT EPITA\" style=\"width: 750px;\"/>\n",
    "\n",
    "___"
   ]
  },
  {
   "cell_type": "markdown",
   "metadata": {},
   "source": [
    "# Data Preparation & Exploration\n",
    "\n",
    "**By**: Mohamed Fouad Fakhruldeen, mohamed.fakhruldeen@epita.fr\n",
    "____\n",
    "\n",
    "## Session 06"
   ]
  },
  {
   "cell_type": "markdown",
   "metadata": {},
   "source": [
    "#### Topics: \n",
    "\n",
    "* Loading incorrect datasets \n",
    "* Dropping lines with NA values and observing the consequences\n",
    "* Dropping columns with NA values and observing consequences \n",
    "* Encoding missing values - Imputing strategies for missing values "
   ]
  },
  {
   "cell_type": "markdown",
   "metadata": {},
   "source": [
    "## Intro\n",
    "\n",
    "[Source: Towards Data Science](https://towardsdatascience.com/the-ultimate-guide-to-data-cleaning-3969843991d4)\n",
    "\n",
    "Incorrect or inconsistent data leads to false conclusions. And so, how well you clean and understand the data has a high impact on the quality of the results.\n",
    "\n",
    "Two real examples were given on [Wikipedia.](https://en.wikipedia.org/wiki/Data_cleansing)\n",
    "\n",
    "    For instance, the government may want to analyze population census figures to decide which regions require further spending and investment on infrastructure and services. In this case, it will be important to have access to reliable data to avoid erroneous fiscal decisions.\n",
    "\n",
    "    In the business world, incorrect data can be costly. Many companies use customer information databases that record data like contact information, addresses, and preferences. For instance, if the addresses are inconsistent, the company will suffer the cost of resending mail or even losing customers."
   ]
  },
  {
   "cell_type": "markdown",
   "metadata": {},
   "source": [
    "### Sources of Missing Values\n",
    "\n",
    "Before we dive into code, it’s important to understand the sources of missing data. Here’s some typical reasons why data is missing:\n",
    "\n",
    "- User forgot to fill in a field.\n",
    "- Data was lost while transferring manually from a legacy database.\n",
    "- There was a programming error.\n",
    "- Users chose not to fill out a field tied to their beliefs about how the results would be used or interpreted.\n",
    "- Other reasons, might reserve a meaning!"
   ]
  },
  {
   "cell_type": "markdown",
   "metadata": {},
   "source": [
    "## Data quality"
   ]
  },
  {
   "cell_type": "markdown",
   "metadata": {},
   "source": [
    "5 characteristics of quality data\n",
    "\n",
    "1. **Validity.** The degree to which your data conforms to defined business rules or constraints.\n",
    "2. **Accuracy.** Ensure your data is close to the true values.\n",
    "3. **Completeness.** The degree to which all required data is known.\n",
    "4. **Consistency.** Ensure your data is consistent within the same dataset and/or across multiple data sets.\n",
    "5. **Uniformity.** The degree to which the data is specified using the same unit of measure."
   ]
  },
  {
   "cell_type": "markdown",
   "metadata": {},
   "source": [
    "### Validity\n",
    "\n",
    "The degree to which the data conform to defined business rules or constraints."
   ]
  },
  {
   "cell_type": "markdown",
   "metadata": {},
   "source": [
    "1. **Data-Type Constraints:** values in a particular column must be of a particular datatype, e.g., boolean, numeric, date, etc.\n",
    "2. **Range Constraints:** typically, numbers or dates should fall within a certain range.\n",
    "3. **Mandatory Constraints:** certain columns cannot be empty.\n",
    "4. **Unique Constraints:** a field, or a combination of fields, must be unique across a dataset.\n",
    "5. **Set-Membership constraints:** values of a column come from a set of discrete values, e.g. enum values. For example, a person’s gender may be male or female.\n",
    "6. **Foreign-key constraints:** as in relational databases, a foreign key column can’t have a value that does not exist in the referenced primary key.\n",
    "7. **Regular expression patterns:** text fields that have to be in a certain pattern. For example, phone numbers may be required to have the pattern (999) 999–9999.\n",
    "8. **Cross-field validation:** certain conditions that span across multiple fields must hold. For example, a patient’s date of discharge from the hospital cannot be earlier than the date of admission."
   ]
  },
  {
   "cell_type": "markdown",
   "metadata": {},
   "source": [
    "### Accuracy\n",
    "\n",
    "The degree to which the data is close to the true values."
   ]
  },
  {
   "cell_type": "markdown",
   "metadata": {},
   "source": [
    "A valid street address mightn’t actually exist. A valid person’s eye colour, say blue, might be valid, but not true (doesn’t represent the reality).\n",
    "\n",
    "Another thing to note is the difference between accuracy and precision. Saying that you live on the earth is, actually true. But, not precise. Where on the earth?. Saying that you live at a particular street address is more precise."
   ]
  },
  {
   "cell_type": "markdown",
   "metadata": {},
   "source": [
    "### Completeness\n",
    "\n",
    "The degree to which all required data is known."
   ]
  },
  {
   "cell_type": "markdown",
   "metadata": {},
   "source": [
    "### Consistency\n",
    "\n",
    "The degree to which the data is consistent, within the same data set or across multiple data sets.\n",
    "\n",
    "Inconsistency occurs when two values in the data set contradict each other.\n",
    "\n",
    "A valid age, say 10, mightn’t match with the marital status, say divorced. A customer is recorded in two different tables with two different addresses."
   ]
  },
  {
   "cell_type": "markdown",
   "metadata": {},
   "source": [
    "### Uniformity\n",
    "\n",
    "The degree to which the data is specified using the same unit of measure.\n",
    "\n",
    "The weight may be recorded either in pounds or kilos. The date might follow the USA format or European format. The currency is sometimes in USD and sometimes in YEN.\n",
    "\n",
    "And so data must be converted to a single measure unit."
   ]
  },
  {
   "cell_type": "markdown",
   "metadata": {},
   "source": [
    "## The workflow"
   ]
  },
  {
   "cell_type": "markdown",
   "metadata": {},
   "source": [
    "Iterative and endless process\n",
    "\n",
    "1. **Inspection:** Detect unexpected, incorrect, and inconsistent data.\n",
    "2. **Cleaning:** Fix or remove the anomalies discovered.\n",
    "3. **Verifying:** After cleaning, the results are inspected to verify correctness.\n",
    "4. **Reporting:** A report about the changes made and the quality of the currently stored data is recorded."
   ]
  },
  {
   "cell_type": "markdown",
   "metadata": {},
   "source": [
    "### 1. Inspection"
   ]
  },
  {
   "cell_type": "markdown",
   "metadata": {},
   "source": [
    "#### Data profiling"
   ]
  },
  {
   "cell_type": "markdown",
   "metadata": {},
   "source": [
    "A summary statistics about the data, called data profiling, is really helpful to give a general idea about the quality of the data."
   ]
  },
  {
   "cell_type": "markdown",
   "metadata": {},
   "source": [
    "#### Visualizations"
   ]
  },
  {
   "cell_type": "markdown",
   "metadata": {},
   "source": [
    "By analyzing and visualizing the data using statistical methods such as mean, standard deviation, range, or quantiles, one can find values that are unexpected and thus erroneous."
   ]
  },
  {
   "cell_type": "markdown",
   "metadata": {},
   "source": [
    "### 2. Cleaning"
   ]
  },
  {
   "cell_type": "markdown",
   "metadata": {},
   "source": [
    "- irrelevant data \n",
    "- Duplicates\n",
    "- Type conversion\n",
    "- Standardize\n",
    "- Scaling / Transformation\n",
    "- Normalization\n",
    "- Missing values\n",
    "    - Drop\n",
    "    - impute (mean or linear regression)\n",
    "    - Flag (missing value has a meaning)\n",
    "    - outliers (lies more than (1.5 * IQR) + Q3 or - Q1)\n",
    "    - In-record & cross-datasets errors"
   ]
  },
  {
   "cell_type": "markdown",
   "metadata": {},
   "source": [
    "### 3. Verifying"
   ]
  },
  {
   "cell_type": "markdown",
   "metadata": {},
   "source": [
    "When done, one should verify correctness by re-inspecting the data and making sure it rules and constraints do hold.\n",
    "\n",
    "For example, after filling out the missing data, they might violate any of the rules and constraints."
   ]
  },
  {
   "cell_type": "markdown",
   "metadata": {},
   "source": [
    "### 4. Reporting"
   ]
  },
  {
   "cell_type": "markdown",
   "metadata": {},
   "source": [
    "Reporting how healthy the data is, is equally important to cleaning."
   ]
  },
  {
   "cell_type": "markdown",
   "metadata": {},
   "source": [
    "## Data Cleaning in Orange3"
   ]
  },
  {
   "cell_type": "markdown",
   "metadata": {},
   "source": [
    "- Select Columns\n",
    "- feature construction\n",
    "- select rows"
   ]
  },
  {
   "cell_type": "markdown",
   "metadata": {},
   "source": [
    "https://www.kaggle.com/c/titanic/data"
   ]
  },
  {
   "cell_type": "markdown",
   "metadata": {},
   "source": [
    "https://orange3.readthedocs.io/projects/orange-visual-programming/en/latest/widgets/data/preprocess.html"
   ]
  },
  {
   "cell_type": "code",
   "execution_count": null,
   "metadata": {},
   "outputs": [],
   "source": []
  }
 ],
 "metadata": {
  "kernelspec": {
   "display_name": "Python 3",
   "language": "python",
   "name": "python3"
  },
  "language_info": {
   "codemirror_mode": {
    "name": "ipython",
    "version": 3
   },
   "file_extension": ".py",
   "mimetype": "text/x-python",
   "name": "python",
   "nbconvert_exporter": "python",
   "pygments_lexer": "ipython3",
   "version": "3.8.8"
  }
 },
 "nbformat": 4,
 "nbformat_minor": 4
}
