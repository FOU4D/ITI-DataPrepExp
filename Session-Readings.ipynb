{
 "cells": [
  {
   "cell_type": "markdown",
   "metadata": {},
   "source": [
    "<img src=\"https://drive.google.com/uc?id=1v7YY_rNBU2OMaPnbUGmzaBj3PUeddxrw\" alt=\"ITI MCIT EPITA\" style=\"width: 750px;\"/>\n",
    "\n",
    "___"
   ]
  },
  {
   "cell_type": "markdown",
   "metadata": {},
   "source": [
    "# Data Preparation & Exploration\n",
    "\n",
    "By: **Mohamed Fouad Fakhruldeen**, mohamed.fakhruldeen@epita.fr\n",
    "____\n",
    "\n",
    "## Session: Selected Topics"
   ]
  },
  {
   "cell_type": "markdown",
   "metadata": {},
   "source": [
    "### Statistics"
   ]
  },
  {
   "cell_type": "markdown",
   "metadata": {},
   "source": [
    "- [Introduction to Descriptive Statistics and Probability for Data Science](https://towardsdatascience.com/intro-to-descriptive-statistics-and-probability-for-data-science-8effec826488)\n",
    "- [Fundamentals Of Statistics For Data Scientists and Analysts](https://towardsdatascience.com/fundamentals-of-statistics-for-data-scientists-and-data-analysts-69d93a05aae7)\n",
    "- [Data Visualization 101: The Most Important Rule for Developing a Graph](https://towardsdatascience.com/data-visualization-101-the-most-important-rule-for-developing-a-graph-2f9a6cdeb8c5)\n",
    "- [Check topics on this site](https://towardsdatascience.com)\n",
    "- [An Introduction to Descriptive Statistics | Definition of Descriptive Statistics](https://www.mygreatlearning.com/blog/introduction-descriptive-statistics/)\n",
    "- [6 methods of data collection](https://callygood.medium.com/6-methods-of-data-collection-e946e993b930)\n",
    "- [Data Cleaning](https://elitedatascience.com/data-cleaning)\n",
    "- [5 Data Cleaning Techniques You Need To Learn](https://www.chi2innovations.com/blog/5-productivity-tips-efficient-data-cleansing/)\n",
    "- [The Ultimate Guide to Data Cleaning](https://towardsdatascience.com/the-ultimate-guide-to-data-cleaning-3969843991d4)\n",
    "- [Data Cleaning Challenge: Handling missing values](https://www.kaggle.com/rtatman/data-cleaning-challenge-handling-missing-values)\n",
    "- [5 Ways To Handle Missing Values In Machine Learning Datasets](https://analyticsindiamag.com/5-ways-handle-missing-values-machine-learning-datasets/)\n",
    "- [Data Cleaning — How to Handle Missing Values with Pandas](https://towardsdatascience.com/data-cleaning-how-to-handle-missing-values-in-pandas-cc8570c446ec)"
   ]
  },
  {
   "cell_type": "markdown",
   "metadata": {},
   "source": [
    "### Data Visulaization\n"
   ]
  },
  {
   "cell_type": "markdown",
   "metadata": {},
   "source": [
    "- [Simple Guide to Data Visualization](https://medium.com/swlh/simple-guide-to-data-visualization-6ef6fa726e38)\n",
    "- [Top 10 Most Useful Charts In Data Visualization](https://medium.com/analytics-vidhya/top-10-most-useful-charts-in-data-visualization-a4c9365d03e4)"
   ]
  },
  {
   "cell_type": "markdown",
   "metadata": {},
   "source": [
    "### Files!"
   ]
  },
  {
   "cell_type": "markdown",
   "metadata": {},
   "source": [
    "#### Txt Files with Python"
   ]
  },
  {
   "cell_type": "markdown",
   "metadata": {},
   "source": [
    "- [Reading and Writing to text files in Python](https://www.geeksforgeeks.org/reading-writing-text-files-python/)\n",
    "- [ Python File Handling: How to Create, Open, Append, Read, Write ](https://www.guru99.com/reading-and-writing-files-in-python.html)"
   ]
  },
  {
   "cell_type": "markdown",
   "metadata": {},
   "source": [
    "#### Python CSV"
   ]
  },
  {
   "cell_type": "markdown",
   "metadata": {},
   "source": [
    "- [Reading and Writing CSV Files in Python](https://realpython.com/python-csv/)\n",
    "- [Python CSV](https://www.programiz.com/python-programming/csv)"
   ]
  },
  {
   "cell_type": "markdown",
   "metadata": {},
   "source": [
    "#### Python JSON"
   ]
  },
  {
   "cell_type": "markdown",
   "metadata": {},
   "source": [
    "- [Working With JSON Data in Python](https://realpython.com/python-json/)\n",
    "- [Read JSON file using Python](https://www.geeksforgeeks.org/read-json-file-using-python/)\n",
    "- [ How to Parse Data From JSON Into Python ](https://linuxconfig.org/how-to-parse-data-from-json-into-python)\n",
    "- [JSON - Introduction](https://www.w3schools.com/js/js_json_intro.asp)"
   ]
  },
  {
   "cell_type": "markdown",
   "metadata": {},
   "source": [
    "#### Python XML"
   ]
  },
  {
   "cell_type": "markdown",
   "metadata": {},
   "source": [
    "- [Reading and Writing XML Files in Python](https://stackabuse.com/reading-and-writing-xml-files-in-python/)\n",
    "- [Python - XML Processing](https://www.tutorialspoint.com/python/python_xml_processing.htm)\n",
    "- [XML parsing in Python](https://www.geeksforgeeks.org/xml-parsing-python/)\n",
    "- [XML Tutorial](https://www.w3schools.com/xml/default.asp)\n"
   ]
  },
  {
   "cell_type": "markdown",
   "metadata": {},
   "source": [
    "#### Python XSD"
   ]
  },
  {
   "cell_type": "markdown",
   "metadata": {},
   "source": [
    "- [How to validate an XML file with an XML schema in Python](https://www.kite.com/python/answers/how-to-validate-an-xml-file-with-an-xml-schema-in-python)\n",
    "- [XSD Schema](https://www.w3schools.com/xml/schema_intro.asp)\n"
   ]
  },
  {
   "cell_type": "markdown",
   "metadata": {},
   "source": [
    "#### other files"
   ]
  },
  {
   "cell_type": "markdown",
   "metadata": {},
   "source": [
    "- [XPath Tutorial](https://www.w3schools.com/xml/xpath_intro.asp)\n",
    "- [XML DOM](https://www.w3schools.com/xml/dom_intro.asp)\n",
    "- [XSLT Tutorial](https://www.w3schools.com/xml/xsl_intro.asp)\n",
    "- [check ARFF section on this article](https://github.com/FOU4D/ITI-DataPrepExp/blob/main/Session01-Data%20Formats.ipynb#ARFF)"
   ]
  },
  {
   "cell_type": "markdown",
   "metadata": {},
   "source": [
    "### Orange3"
   ]
  },
  {
   "cell_type": "markdown",
   "metadata": {},
   "source": [
    "- [Building Machine Learning Model is fun using Orange](https://www.analyticsvidhya.com/blog/2017/09/building-machine-learning-model-fun-using-orange/)\n",
    "- [Getting Started With orange](https://www.youtube.com/playlist?list=PLmNPvQr9Tf-ZSDLwOzxpvY-HrE0yv-8Fy)\n",
    "- [Building Machine Learning Model Using Orange Is Fun](https://www.zeolearn.com/magazine/building-machine-learning-model-is-fun-using-orange)\n",
    "- [Data Science Made Easy: Interactive Data Visualization using Orange](https://towardsdatascience.com/data-science-made-easy-interactive-data-visualization-using-orange-de8d5f6b7f2b)\n",
    "- [Orange Data Mining](https://www.javatpoint.com/orange-data-mining)\n",
    "- [Machine Learning and Data Visualization using Orange](https://www.studytonight.com/post/machine-learning-and-data-visualization-using-orange)"
   ]
  },
  {
   "cell_type": "markdown",
   "metadata": {},
   "source": [
    "### Selenium Python"
   ]
  },
  {
   "cell_type": "markdown",
   "metadata": {},
   "source": [
    "- [Selenium](https://selenium-python.readthedocs.io/)\n",
    "- [Web Scrape Twitter by Python Selenium (Part 1) and check other parts in the series](https://towardsdatascience.com/web-scrape-twitter-by-python-selenium-part-1-b3e2db29051d)\n",
    "- [Web Scrape Twitter by Python Selenium (Part 2)](https://towardsdatascience.com/web-scrape-twitter-by-python-selenium-part-2-c22ae3e78e03)\n",
    "- [Twitter Automation using Selenium Python](https://www.geeksforgeeks.org/twitter-automation-using-selenium-python/)\n",
    "- [ Selenium Webdriver with Python: Tutorial with Example ](https://www.guru99.com/selenium-python.html)\n",
    "- [Modern Web Automation With Python and Selenium](https://realpython.com/modern-web-automation-with-python-and-selenium/)"
   ]
  },
  {
   "cell_type": "markdown",
   "metadata": {},
   "source": [
    "### PgAdmin"
   ]
  },
  {
   "cell_type": "markdown",
   "metadata": {},
   "source": [
    "- [PGAdmin4 Tutorial Beginners](https://linuxhint.com/pgadmin4_tutorial_beginners/)\n",
    "- [How to use pgAdmin](https://medium.com/@malexmad/how-to-use-pgadmin-a9addc7ff46c)\n",
    "- [Export PostgreSQL Table To CSV File](https://www.postgresqltutorial.com/export-postgresql-table-to-csv-file/)\n",
    "- [Postgresql Tutorials](https://www.postgresqltutorial.com/)"
   ]
  },
  {
   "cell_type": "markdown",
   "metadata": {},
   "source": [
    "### Talend Open Studio"
   ]
  },
  {
   "cell_type": "markdown",
   "metadata": {},
   "source": [
    "- [Talend whitepaper on data pipeline](https://www.talend.com/resources/what-is-a-data-pipeline/)\n",
    "- [Talend ETL Tool – Talend Open Studio For Data Processing](https://www.edureka.co/blog/talend-etl-tool/)\n",
    "- [ Talend Tutorial for Beginners: What is Talend ETL Tool [Example] ](https://www.guru99.com/talend-tutorial.html)\n",
    "- [Discovering Talend Studio whitepaper](https://www.talend.com/resources/discovering-talend-studio/)\n",
    "- [Talend ETL Tutorial | Talend Tutorial For Beginners](https://www.youtube.com/watch?v=_8Ws03Yk6DY)\n",
    "- [Talend Tutorial - A Beginner’s Guide To The Future Of Data Integration](https://edureka.medium.com/talend-tutorial-data-integration-2ecf5159388e)\n",
    "- [Talend Open Studio](https://www.tutorialspoint.com/talend/talend_talend_open_studio.htm)\n",
    "- [What is Talend ? — An Introduction to Talend ETL Tool](https://medium.com/edureka/what-is-talend-tool-881b41fc1f5f)\n",
    "- [Talend ETL Tool - Know All About Talend Open Studio For Data Processing](https://medium.com/edureka/talend-etl-tool-d08b497c33f)\n",
    "- [Talend by Example](https://www.talendbyexample.com/)\n",
    "\n"
   ]
  },
  {
   "cell_type": "markdown",
   "metadata": {},
   "source": [
    "## Always"
   ]
  },
  {
   "cell_type": "markdown",
   "metadata": {},
   "source": [
    "- [Google](https://google.com)\n",
    "- [Stackoverflow](https://stackoverflow.com/)\n",
    "- [Github](https://github.com) \n",
    "        remember [https://github.com/fou4d/iti-dataprepexp\n",
    "- [towardsdatascience](https://towardsdatascience.com/)\n",
    "- [Medium](https://medium.com)"
   ]
  },
  {
   "cell_type": "code",
   "execution_count": null,
   "metadata": {},
   "outputs": [],
   "source": []
  }
 ],
 "metadata": {
  "kernelspec": {
   "display_name": "Python 3",
   "language": "python",
   "name": "python3"
  },
  "language_info": {
   "codemirror_mode": {
    "name": "ipython",
    "version": 3
   },
   "file_extension": ".py",
   "mimetype": "text/x-python",
   "name": "python",
   "nbconvert_exporter": "python",
   "pygments_lexer": "ipython3",
   "version": "3.8.8"
  }
 },
 "nbformat": 4,
 "nbformat_minor": 4
}
