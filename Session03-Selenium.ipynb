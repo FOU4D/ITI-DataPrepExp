{
 "cells": [
  {
   "cell_type": "markdown",
   "metadata": {},
   "source": [
    "<img src=\"https://drive.google.com/uc?id=1v7YY_rNBU2OMaPnbUGmzaBj3PUeddxrw\" alt=\"ITI MCIT EPITA\" style=\"width: 750px;\"/>\n",
    "\n",
    "___"
   ]
  },
  {
   "cell_type": "markdown",
   "metadata": {},
   "source": [
    "# Data Preparation & Exploration\n",
    "\n",
    "**By**: Mohamed Fouad Fakhruldeen, mohamed.fakhruldeen@epita.fr\n",
    "____\n",
    "\n",
    "## Session 03"
   ]
  },
  {
   "cell_type": "markdown",
   "metadata": {},
   "source": [
    "#### Topics: \n",
    "\n",
    "* Presentation of rest services \n",
    "* Dealing with remote json content fetching\n",
    "* Connecting to websites and fetching raw content \n",
    "* Connect to websites using selenium headless (python) or HTML Unit (java) \n",
    "* Integration is performed through Orange studio."
   ]
  },
  {
   "cell_type": "markdown",
   "metadata": {},
   "source": [
    "### Web Service"
   ]
  },
  {
   "cell_type": "markdown",
   "metadata": {},
   "source": [
    "Simply put, a web service is a resource that’s made available over the internet. Therefore, web services, by definition, require a network. The term “web service” is defined by W3C (the World Wide Web Consortium) and so it technically follows a whole host of standards.\n",
    "\n",
    "    A Web service is a software system designed to support interoperable machine-to-machine interaction over a network. It has an interface described in a machine-processable format (specifically WSDL). Other systems interact with the Web service in a manner prescribed by its description using SOAP-messages, typically conveyed using HTTP with an XML serialization in conjunction with other Web-related standards.\n",
    "    \n",
    "    \n",
    "        SOAP (Simple Object Access Protocol)\n",
    "        UDDI (Universal Description, Discovery and Integration)\n",
    "        WSDL (Web Services Description Language)\n",
    "        \n",
    "\n",
    "web services are not API, and it supports only XML"
   ]
  },
  {
   "cell_type": "markdown",
   "metadata": {},
   "source": [
    "### Application Programming Interface (API)"
   ]
  },
  {
   "cell_type": "markdown",
   "metadata": {},
   "source": [
    "APIs enables communication and data exchange between two separate software systems\n",
    "\n",
    "A SW system implementing an API, contains functions which can be executed by another SW system.\n",
    "Structured request, and structured response\n",
    "\n",
    "Ex. Web services, one category of APIs, bring the Web beyond links from one page to another, and beyond pages for humans to read. Instead, they allow us to exchange structured data across the Web and provide a coherent way for our applications to request data in rich, programmatic ways"
   ]
  },
  {
   "cell_type": "markdown",
   "metadata": {},
   "source": [
    "    When you log into a website using your Facebook profile\n",
    "    When you switch on Netflix and see dozens of new movies flood the screen\n",
    "    When you look for flights on Google\n",
    "    \n",
    "    \n",
    "supports XML and JSON "
   ]
  },
  {
   "cell_type": "markdown",
   "metadata": {},
   "source": [
    "    APIs enables communication and data exchange between two separate software systems\n",
    "    A SW system implementing an API, contains functions which can be executed by another SW system.\n",
    "    Structured request, and structured response\n",
    "Ex. Web services, one category of APIs, bring the Web beyond links from one page to another, and beyond pages for humans to read. Instead, they allow us to exchange structured data across the Web and provide a coherent way for our applications to request data in rich, programmatic ways"
   ]
  },
  {
   "cell_type": "markdown",
   "metadata": {},
   "source": [
    "### Data Collection through code"
   ]
  },
  {
   "cell_type": "markdown",
   "metadata": {},
   "source": [
    "    Web services and APIs are an important source of data.\n",
    "    Clients need to programmatically access data\n",
    "    Requests over local web applications and Databases\n",
    "\n",
    "    Send and Receive data\n",
    "    Send Authorization/Authentication Information\n",
    "    Cookies and authorization token for multiple requests to same server"
   ]
  },
  {
   "cell_type": "markdown",
   "metadata": {},
   "source": [
    "### Data Scraping"
   ]
  },
  {
   "cell_type": "markdown",
   "metadata": {},
   "source": [
    "    HTML scraping\n",
    "    HTML forms\n",
    "\n",
    "SW can be programmed to access data the same way human user would do.\n",
    "\n",
    "We need to navigate the large amount of formatting information that is used to display the data (and other content) in a Web browser\n"
   ]
  },
  {
   "cell_type": "markdown",
   "metadata": {},
   "source": [
    "### REST Service"
   ]
  },
  {
   "cell_type": "markdown",
   "metadata": {},
   "source": [
    "REpresentational State Transfer, a SW architecture standard for communication between web services\n",
    "\n",
    "REST leverages URLs as identifiers of resources which we can also think of as functions operating on data\n",
    "\n",
    "REST API can be used by any site or application no matter what language it is written in because the requests are based on the universal HTTP protocol, and the information is usually returned in the JSON format that almost all of the programming languages can read."
   ]
  },
  {
   "cell_type": "markdown",
   "metadata": {},
   "source": [
    "Two other approaches to Web services that are still in use, but are being dominated by REST, are XML-RPC and SOAP.\n",
    "\n",
    "Web Services, Anonymous access for public data, registration token might be needed to monitor who is accessing, and access private data (OAuth)"
   ]
  },
  {
   "cell_type": "markdown",
   "metadata": {},
   "source": [
    "Web service APIs that adhere to the REST architectural constraints are called RESTful APIs.\n",
    "Besides a main component for an API, the URL, another component is the standard HTML methods:"
   ]
  },
  {
   "cell_type": "code",
   "execution_count": 6,
   "metadata": {},
   "outputs": [
    {
     "name": "stdout",
     "output_type": "stream",
     "text": [
      "test({\"coord\":{\"lon\":31.2497,\"lat\":30.0626},\"weather\":[{\"id\":800,\"main\":\"Clear\",\"description\":\"clear sky\",\"icon\":\"01d\"}],\"base\":\"stations\",\"main\":{\"temp\":308.15,\"feels_like\":305.51,\"temp_min\":308.15,\"temp_max\":308.15,\"pressure\":1012,\"humidity\":11},\"visibility\":10000,\"wind\":{\"speed\":5.66,\"deg\":30},\"clouds\":{\"all\":0},\"dt\":1618663968,\"sys\":{\"type\":1,\"id\":2514,\"country\":\"EG\",\"sunrise\":1618629944,\"sunset\":1618676577},\"timezone\":7200,\"id\":360630,\"name\":\"Cairo\",\"cod\":200})\n"
     ]
    }
   ],
   "source": [
    "import requests\n",
    "\n",
    "url = \"https://community-open-weather-map.p.rapidapi.com/weather\"\n",
    "\n",
    "querystring = {\"q\":\"Cairo,EG\",\"lat\":\"0\",\"lon\":\"0\",\"callback\":\"test\",\"id\":\"2172797\",\"lang\":\"null\",\"units\":\"\\\"metric\\\" or \\\"imperial\\\"\",\"mode\":\"xml, html\"}\n",
    "\n",
    "headers = {\n",
    "    'x-rapidapi-key': \"2a9769dc82msh399ea7c7313cd01p1c533cjsne440d55603bb\",\n",
    "    'x-rapidapi-host': \"community-open-weather-map.p.rapidapi.com\"\n",
    "    }\n",
    "\n",
    "response = requests.request(\"GET\", url, headers=headers, params=querystring)\n",
    "\n",
    "print(response.text)"
   ]
  },
  {
   "cell_type": "raw",
   "metadata": {},
   "source": [
    "{\n",
    "   \"coord\": {\n",
    "      \"lon\": 31.2497,\n",
    "      \"lat\": 30.0626\n",
    "   },\n",
    "   \"weather\": [\n",
    "      {\n",
    "         \"id\": 800,\n",
    "         \"main\": \"Clear\",\n",
    "         \"description\": \"clear sky\",\n",
    "         \"icon\": \"01d\"\n",
    "      }\n",
    "   ],\n",
    "   \"base\": \"stations\",\n",
    "   \"main\": {\n",
    "      \"temp\": 308.15,\n",
    "      \"feels_like\": 305.51,\n",
    "      \"temp_min\": 308.15,\n",
    "      \"temp_max\": 308.15,\n",
    "      \"pressure\": 1012,\n",
    "      \"humidity\": 11\n",
    "   },\n",
    "   \"visibility\": 10000,\n",
    "   \"wind\": {\n",
    "      \"speed\": 5.66,\n",
    "      \"deg\": 30\n",
    "   },\n",
    "   \"clouds\": {\n",
    "      \"all\": 0\n",
    "   },\n",
    "   \"dt\": 1618663968,\n",
    "   \"sys\": {\n",
    "      \"type\": 1,\n",
    "      \"id\": 2514,\n",
    "      \"country\": \"EG\",\n",
    "      \"sunrise\": 1618629944,\n",
    "      \"sunset\": 1618676577\n",
    "   },\n",
    "   \"timezone\": 7200,\n",
    "   \"id\": 360630,\n",
    "   \"name\": \"Cairo\",\n",
    "   \"cod\": 200\n",
    "}"
   ]
  },
  {
   "cell_type": "markdown",
   "metadata": {},
   "source": [
    "### selenium "
   ]
  },
  {
   "cell_type": "raw",
   "metadata": {},
   "source": [
    "conda install selenium\n",
    "pip install selenium"
   ]
  },
  {
   "cell_type": "markdown",
   "metadata": {},
   "source": [
    "Selenium requires a driver to interface with the chosen browser. Firefox, for example, requires geckodriver\n",
    "\n",
    "    Chrome: \thttps://sites.google.com/a/chromium.org/chromedriver/downloads\n",
    "    Edge: \thttps://developer.microsoft.com/en-us/microsoft-edge/tools/webdriver/\n",
    "    Firefox: \thttps://github.com/mozilla/geckodriver/releases\n",
    "    Safari: \thttps://webkit.org/blog/6900/webdriver-support-in-safari-10/"
   ]
  },
  {
   "cell_type": "markdown",
   "metadata": {},
   "source": [
    "https://github.com/mozilla/geckodriver/releases"
   ]
  },
  {
   "cell_type": "raw",
   "metadata": {},
   "source": [
    "export PATH=$PATH:/opt/geckodriver >> ~/.profile\n",
    "export PATH=$PATH:/opt/chromedriver >> ~/.profile"
   ]
  },
  {
   "cell_type": "code",
   "execution_count": 8,
   "metadata": {},
   "outputs": [],
   "source": [
    "from selenium import webdriver\n",
    "driver = webdriver.Chrome(r'/opt/chromedriver')\n",
    "driver.maximize_window()\n",
    "driver.get(\"http://www.seleniumeasy.com/test/basic-first-form-demo.html\")\n",
    "assert \"Selenium Easy Demo - Simple Form to Automate using Selenium\" in driver.title\n",
    "\n",
    "eleUserMessage = driver.find_element_by_id(\"user-message\")\n",
    "eleUserMessage.clear()\n",
    "eleUserMessage.send_keys(\"Test Python\")\n",
    "\n",
    "eleShowMsgBtn=driver.find_element_by_css_selector('#get-input > .btn')\n",
    "eleShowMsgBtn.click()\n",
    "\n",
    "eleYourMsg=driver.find_element_by_id(\"display\")\n",
    "assert \"Test Python\" in eleYourMsg.text\n",
    "driver.close()"
   ]
  },
  {
   "cell_type": "code",
   "execution_count": 2,
   "metadata": {},
   "outputs": [
    {
     "name": "stdout",
     "output_type": "stream",
     "text": [
      "وزارة الكهرباء تنجح فى القضاء على سرقات التيار من خلال العدادات مسبوقة الدفع.. المتحدث باسم الوزارة: المرور شهريا على \"المسبق\" فى كشف بعض المخالفات.. ويؤكد: العدادات مسبوقة الدفع فى مصلحة المواطن أولا\n"
     ]
    }
   ],
   "source": [
    "from selenium import webdriver\n",
    "from selenium.webdriver.common.keys import Keys\n",
    "\n",
    "driver = webdriver.Chrome(\"/opt/chromedriver\")\n",
    "#url = \"https://openweathermap.org/city/360630\"\n",
    "url = \"https://www.youm7.com/\"\n",
    "driver.get(url)\n",
    "#Temp_xpath = \"//*[@id=\\\"weather-widget\\\"]/div[2]/div[1]/div[1]/div[2]/div[1]/span\"\n",
    "Temp_xpath = \"/html/body/main/div[3]/div/div[3]/div/div/div[1]/div/h3/a\"\n",
    "fds = driver.find_elements_by_xpath(Temp_xpath)\n",
    "\n",
    "print(fds[0].text)"
   ]
  },
  {
   "cell_type": "code",
   "execution_count": 11,
   "metadata": {},
   "outputs": [],
   "source": [
    "from selenium import webdriver\n",
    "from selenium.webdriver.common.keys import Keys\n",
    "driver = webdriver.Chrome(\"/opt/chromedriver\")\n",
    "\n",
    "user_name = \"YOUR EMAILID\"\n",
    "password = \"YOUR PASSWORD\"\n",
    "driver.get(\"https://www.facebook.com\")\n",
    "element = driver.find_element_by_id(\"email\")\n",
    "element.send_keys(user_name)\n",
    "element = driver.find_element_by_id(\"pass\")\n",
    "element.send_keys(password)\n",
    "element.send_keys(Keys.RETURN)\n",
    "element.close()"
   ]
  },
  {
   "cell_type": "code",
   "execution_count": null,
   "metadata": {},
   "outputs": [],
   "source": [
    "from selenium import webdriver\n",
    "from selenium.webdriver.support.ui import WebDriverWait\n",
    "# Step 1) Open Firefox \n",
    "browser = webdriver.Firefox()\n",
    "# Step 2) Navigate to Facebook\n",
    "browser.get(\"http://www.facebook.com\")\n",
    "# Step 3) Search & Enter the Email or Phone field & Enter Password\n",
    "username = browser.find_element_by_id(\"email\")\n",
    "password = browser.find_element_by_id(\"pass\")\n",
    "submit   = browser.find_element_by_id(\"loginbutton\")\n",
    "username.send_keys(\"YOUR EMAILID\")\n",
    "password.send_keys(\"YOUR PASSWORD\")\n",
    "# Step 4) Click Login\n",
    "submit.click()\n",
    "wait = WebDriverWait( browser, 5 )\n",
    "page_title = browser.title\n",
    "assert page_title == \"Facebook\""
   ]
  },
  {
   "cell_type": "markdown",
   "metadata": {},
   "source": [
    "## Practice"
   ]
  },
  {
   "cell_type": "code",
   "execution_count": 22,
   "metadata": {},
   "outputs": [
    {
     "name": "stdout",
     "output_type": "stream",
     "text": [
      "[{'dt': 1618671600, 'main': {'temp': 307.09, 'feels_like': 304.62, 'temp_min': 307.09, 'temp_max': 307.97, 'pressure': 1012, 'sea_level': 1012, 'grnd_level': 1009, 'humidity': 13, 'temp_kf': -0.88}, 'weather': [{'id': 800, 'main': 'Clear', 'description': 'clear sky', 'icon': '01d'}], 'clouds': {'all': 0}, 'wind': {'speed': 7.07, 'deg': 51, 'gust': 7.18}, 'visibility': 10000, 'pop': 0, 'sys': {'pod': 'd'}, 'dt_txt': '2021-04-17 15:00:00'}, {'dt': 1618682400, 'main': {'temp': 304.93, 'feels_like': 302.78, 'temp_min': 300.6, 'temp_max': 304.93, 'pressure': 1013, 'sea_level': 1013, 'grnd_level': 1011, 'humidity': 16, 'temp_kf': 4.33}, 'weather': [{'id': 800, 'main': 'Clear', 'description': 'clear sky', 'icon': '01n'}], 'clouds': {'all': 4}, 'wind': {'speed': 6.05, 'deg': 46, 'gust': 9.4}, 'visibility': 10000, 'pop': 0, 'sys': {'pod': 'n'}, 'dt_txt': '2021-04-17 18:00:00'}, {'dt': 1618693200, 'main': {'temp': 300.53, 'feels_like': 299.66, 'temp_min': 297.25, 'temp_max': 300.53, 'pressure': 1014, 'sea_level': 1014, 'grnd_level': 1012, 'humidity': 26, 'temp_kf': 3.28}, 'weather': [{'id': 800, 'main': 'Clear', 'description': 'clear sky', 'icon': '01n'}], 'clouds': {'all': 1}, 'wind': {'speed': 6.15, 'deg': 60, 'gust': 11.79}, 'visibility': 10000, 'pop': 0, 'sys': {'pod': 'n'}, 'dt_txt': '2021-04-17 21:00:00'}, {'dt': 1618704000, 'main': {'temp': 296.6, 'feels_like': 295.84, 'temp_min': 296.6, 'temp_max': 296.6, 'pressure': 1013, 'sea_level': 1013, 'grnd_level': 1010, 'humidity': 32, 'temp_kf': 0}, 'weather': [{'id': 800, 'main': 'Clear', 'description': 'clear sky', 'icon': '01n'}], 'clouds': {'all': 0}, 'wind': {'speed': 3.45, 'deg': 59, 'gust': 9.05}, 'visibility': 10000, 'pop': 0, 'sys': {'pod': 'n'}, 'dt_txt': '2021-04-18 00:00:00'}, {'dt': 1618714800, 'main': {'temp': 296.2, 'feels_like': 295.29, 'temp_min': 296.2, 'temp_max': 296.2, 'pressure': 1013, 'sea_level': 1013, 'grnd_level': 1010, 'humidity': 28, 'temp_kf': 0}, 'weather': [{'id': 800, 'main': 'Clear', 'description': 'clear sky', 'icon': '01n'}], 'clouds': {'all': 0}, 'wind': {'speed': 2.93, 'deg': 43, 'gust': 5.25}, 'visibility': 10000, 'pop': 0, 'sys': {'pod': 'n'}, 'dt_txt': '2021-04-18 03:00:00'}, {'dt': 1618725600, 'main': {'temp': 303.62, 'feels_like': 301.66, 'temp_min': 303.62, 'temp_max': 303.62, 'pressure': 1013, 'sea_level': 1013, 'grnd_level': 1010, 'humidity': 14, 'temp_kf': 0}, 'weather': [{'id': 800, 'main': 'Clear', 'description': 'clear sky', 'icon': '01d'}], 'clouds': {'all': 1}, 'wind': {'speed': 3.05, 'deg': 142, 'gust': 6.37}, 'visibility': 10000, 'pop': 0, 'sys': {'pod': 'd'}, 'dt_txt': '2021-04-18 06:00:00'}, {'dt': 1618736400, 'main': {'temp': 310.69, 'feels_like': 307.54, 'temp_min': 310.69, 'temp_max': 310.69, 'pressure': 1012, 'sea_level': 1012, 'grnd_level': 1010, 'humidity': 6, 'temp_kf': 0}, 'weather': [{'id': 800, 'main': 'Clear', 'description': 'clear sky', 'icon': '01d'}], 'clouds': {'all': 0}, 'wind': {'speed': 3.32, 'deg': 187, 'gust': 4.44}, 'visibility': 10000, 'pop': 0, 'sys': {'pod': 'd'}, 'dt_txt': '2021-04-18 09:00:00'}, {'dt': 1618747200, 'main': {'temp': 313.43, 'feels_like': 309.58, 'temp_min': 313.43, 'temp_max': 313.43, 'pressure': 1010, 'sea_level': 1010, 'grnd_level': 1008, 'humidity': 4, 'temp_kf': 0}, 'weather': [{'id': 800, 'main': 'Clear', 'description': 'clear sky', 'icon': '01d'}], 'clouds': {'all': 0}, 'wind': {'speed': 1.51, 'deg': 204, 'gust': 2.66}, 'visibility': 10000, 'pop': 0, 'sys': {'pod': 'd'}, 'dt_txt': '2021-04-18 12:00:00'}, {'dt': 1618758000, 'main': {'temp': 313.8, 'feels_like': 309.86, 'temp_min': 313.8, 'temp_max': 313.8, 'pressure': 1009, 'sea_level': 1009, 'grnd_level': 1006, 'humidity': 4, 'temp_kf': 0}, 'weather': [{'id': 800, 'main': 'Clear', 'description': 'clear sky', 'icon': '01d'}], 'clouds': {'all': 0}, 'wind': {'speed': 1.04, 'deg': 287, 'gust': 1.87}, 'visibility': 10000, 'pop': 0, 'sys': {'pod': 'd'}, 'dt_txt': '2021-04-18 15:00:00'}, {'dt': 1618768800, 'main': {'temp': 306.73, 'feels_like': 304.25, 'temp_min': 306.73, 'temp_max': 306.73, 'pressure': 1010, 'sea_level': 1010, 'grnd_level': 1007, 'humidity': 10, 'temp_kf': 0}, 'weather': [{'id': 800, 'main': 'Clear', 'description': 'clear sky', 'icon': '01n'}], 'clouds': {'all': 0}, 'wind': {'speed': 2.39, 'deg': 56, 'gust': 4.42}, 'visibility': 10000, 'pop': 0, 'sys': {'pod': 'n'}, 'dt_txt': '2021-04-18 18:00:00'}, {'dt': 1618779600, 'main': {'temp': 304.07, 'feels_like': 302.02, 'temp_min': 304.07, 'temp_max': 304.07, 'pressure': 1011, 'sea_level': 1011, 'grnd_level': 1008, 'humidity': 13, 'temp_kf': 0}, 'weather': [{'id': 802, 'main': 'Clouds', 'description': 'scattered clouds', 'icon': '03n'}], 'clouds': {'all': 37}, 'wind': {'speed': 1.44, 'deg': 126, 'gust': 2.2}, 'visibility': 10000, 'pop': 0, 'sys': {'pod': 'n'}, 'dt_txt': '2021-04-18 21:00:00'}, {'dt': 1618790400, 'main': {'temp': 303.26, 'feels_like': 301.37, 'temp_min': 303.26, 'temp_max': 303.26, 'pressure': 1010, 'sea_level': 1010, 'grnd_level': 1007, 'humidity': 13, 'temp_kf': 0}, 'weather': [{'id': 803, 'main': 'Clouds', 'description': 'broken clouds', 'icon': '04n'}], 'clouds': {'all': 68}, 'wind': {'speed': 3.13, 'deg': 162, 'gust': 3.9}, 'visibility': 10000, 'pop': 0, 'sys': {'pod': 'n'}, 'dt_txt': '2021-04-19 00:00:00'}, {'dt': 1618801200, 'main': {'temp': 302.12, 'feels_like': 300.5, 'temp_min': 302.12, 'temp_max': 302.12, 'pressure': 1010, 'sea_level': 1010, 'grnd_level': 1007, 'humidity': 15, 'temp_kf': 0}, 'weather': [{'id': 804, 'main': 'Clouds', 'description': 'overcast clouds', 'icon': '04n'}], 'clouds': {'all': 100}, 'wind': {'speed': 3.64, 'deg': 169, 'gust': 5.39}, 'visibility': 10000, 'pop': 0, 'sys': {'pod': 'n'}, 'dt_txt': '2021-04-19 03:00:00'}, {'dt': 1618812000, 'main': {'temp': 305.87, 'feels_like': 303.55, 'temp_min': 305.87, 'temp_max': 305.87, 'pressure': 1010, 'sea_level': 1010, 'grnd_level': 1007, 'humidity': 14, 'temp_kf': 0}, 'weather': [{'id': 804, 'main': 'Clouds', 'description': 'overcast clouds', 'icon': '04d'}], 'clouds': {'all': 100}, 'wind': {'speed': 5.73, 'deg': 188, 'gust': 9.88}, 'visibility': 10000, 'pop': 0, 'sys': {'pod': 'd'}, 'dt_txt': '2021-04-19 06:00:00'}, {'dt': 1618822800, 'main': {'temp': 312.18, 'feels_like': 308.96, 'temp_min': 312.18, 'temp_max': 312.18, 'pressure': 1010, 'sea_level': 1010, 'grnd_level': 1007, 'humidity': 8, 'temp_kf': 0}, 'weather': [{'id': 804, 'main': 'Clouds', 'description': 'overcast clouds', 'icon': '04d'}], 'clouds': {'all': 98}, 'wind': {'speed': 7.06, 'deg': 194, 'gust': 8.65}, 'visibility': 10000, 'pop': 0, 'sys': {'pod': 'd'}, 'dt_txt': '2021-04-19 09:00:00'}, {'dt': 1618833600, 'main': {'temp': 314.2, 'feels_like': 310.78, 'temp_min': 314.2, 'temp_max': 314.2, 'pressure': 1008, 'sea_level': 1008, 'grnd_level': 1005, 'humidity': 8, 'temp_kf': 0}, 'weather': [{'id': 804, 'main': 'Clouds', 'description': 'overcast clouds', 'icon': '04d'}], 'clouds': {'all': 99}, 'wind': {'speed': 6.74, 'deg': 206, 'gust': 8.24}, 'visibility': 10000, 'pop': 0, 'sys': {'pod': 'd'}, 'dt_txt': '2021-04-19 12:00:00'}, {'dt': 1618844400, 'main': {'temp': 312.59, 'feels_like': 309.6, 'temp_min': 312.59, 'temp_max': 312.59, 'pressure': 1007, 'sea_level': 1007, 'grnd_level': 1004, 'humidity': 10, 'temp_kf': 0}, 'weather': [{'id': 804, 'main': 'Clouds', 'description': 'overcast clouds', 'icon': '04d'}], 'clouds': {'all': 100}, 'wind': {'speed': 6.19, 'deg': 252, 'gust': 7.77}, 'visibility': 10000, 'pop': 0, 'sys': {'pod': 'd'}, 'dt_txt': '2021-04-19 15:00:00'}, {'dt': 1618855200, 'main': {'temp': 302.02, 'feels_like': 300.72, 'temp_min': 302.02, 'temp_max': 302.02, 'pressure': 1009, 'sea_level': 1009, 'grnd_level': 1007, 'humidity': 26, 'temp_kf': 0}, 'weather': [{'id': 804, 'main': 'Clouds', 'description': 'overcast clouds', 'icon': '04n'}], 'clouds': {'all': 93}, 'wind': {'speed': 6.69, 'deg': 346, 'gust': 9.62}, 'visibility': 10000, 'pop': 0, 'sys': {'pod': 'n'}, 'dt_txt': '2021-04-19 18:00:00'}, {'dt': 1618866000, 'main': {'temp': 296.24, 'feels_like': 295.94, 'temp_min': 296.24, 'temp_max': 296.24, 'pressure': 1012, 'sea_level': 1012, 'grnd_level': 1009, 'humidity': 51, 'temp_kf': 0}, 'weather': [{'id': 804, 'main': 'Clouds', 'description': 'overcast clouds', 'icon': '04n'}], 'clouds': {'all': 90}, 'wind': {'speed': 7.33, 'deg': 332, 'gust': 9.51}, 'visibility': 10000, 'pop': 0, 'sys': {'pod': 'n'}, 'dt_txt': '2021-04-19 21:00:00'}, {'dt': 1618876800, 'main': {'temp': 293.02, 'feels_like': 292.79, 'temp_min': 293.02, 'temp_max': 293.02, 'pressure': 1013, 'sea_level': 1013, 'grnd_level': 1010, 'humidity': 66, 'temp_kf': 0}, 'weather': [{'id': 804, 'main': 'Clouds', 'description': 'overcast clouds', 'icon': '04n'}], 'clouds': {'all': 87}, 'wind': {'speed': 7.85, 'deg': 341, 'gust': 11.42}, 'visibility': 10000, 'pop': 0, 'sys': {'pod': 'n'}, 'dt_txt': '2021-04-20 00:00:00'}, {'dt': 1618887600, 'main': {'temp': 291.84, 'feels_like': 291.57, 'temp_min': 291.84, 'temp_max': 291.84, 'pressure': 1014, 'sea_level': 1014, 'grnd_level': 1011, 'humidity': 69, 'temp_kf': 0}, 'weather': [{'id': 803, 'main': 'Clouds', 'description': 'broken clouds', 'icon': '04n'}], 'clouds': {'all': 77}, 'wind': {'speed': 6.35, 'deg': 356, 'gust': 10.03}, 'visibility': 10000, 'pop': 0, 'sys': {'pod': 'n'}, 'dt_txt': '2021-04-20 03:00:00'}, {'dt': 1618898400, 'main': {'temp': 293.9, 'feels_like': 293.44, 'temp_min': 293.9, 'temp_max': 293.9, 'pressure': 1016, 'sea_level': 1016, 'grnd_level': 1013, 'humidity': 54, 'temp_kf': 0}, 'weather': [{'id': 802, 'main': 'Clouds', 'description': 'scattered clouds', 'icon': '03d'}], 'clouds': {'all': 46}, 'wind': {'speed': 6.4, 'deg': 9, 'gust': 8.18}, 'visibility': 10000, 'pop': 0, 'sys': {'pod': 'd'}, 'dt_txt': '2021-04-20 06:00:00'}, {'dt': 1618909200, 'main': {'temp': 300.98, 'feels_like': 299.96, 'temp_min': 300.98, 'temp_max': 300.98, 'pressure': 1014, 'sea_level': 1014, 'grnd_level': 1012, 'humidity': 26, 'temp_kf': 0}, 'weather': [{'id': 800, 'main': 'Clear', 'description': 'clear sky', 'icon': '01d'}], 'clouds': {'all': 0}, 'wind': {'speed': 6.37, 'deg': 20, 'gust': 6.82}, 'visibility': 10000, 'pop': 0, 'sys': {'pod': 'd'}, 'dt_txt': '2021-04-20 09:00:00'}, {'dt': 1618920000, 'main': {'temp': 305.47, 'feels_like': 303.33, 'temp_min': 305.47, 'temp_max': 305.47, 'pressure': 1012, 'sea_level': 1012, 'grnd_level': 1010, 'humidity': 18, 'temp_kf': 0}, 'weather': [{'id': 800, 'main': 'Clear', 'description': 'clear sky', 'icon': '01d'}], 'clouds': {'all': 0}, 'wind': {'speed': 6.47, 'deg': 11, 'gust': 6.53}, 'visibility': 10000, 'pop': 0, 'sys': {'pod': 'd'}, 'dt_txt': '2021-04-20 12:00:00'}, {'dt': 1618930800, 'main': {'temp': 303.41, 'feels_like': 301.6, 'temp_min': 303.41, 'temp_max': 303.41, 'pressure': 1012, 'sea_level': 1012, 'grnd_level': 1010, 'humidity': 20, 'temp_kf': 0}, 'weather': [{'id': 800, 'main': 'Clear', 'description': 'clear sky', 'icon': '01d'}], 'clouds': {'all': 0}, 'wind': {'speed': 9.34, 'deg': 8, 'gust': 8.62}, 'visibility': 10000, 'pop': 0, 'sys': {'pod': 'd'}, 'dt_txt': '2021-04-20 15:00:00'}, {'dt': 1618941600, 'main': {'temp': 295.09, 'feels_like': 294.36, 'temp_min': 295.09, 'temp_max': 295.09, 'pressure': 1016, 'sea_level': 1016, 'grnd_level': 1013, 'humidity': 39, 'temp_kf': 0}, 'weather': [{'id': 800, 'main': 'Clear', 'description': 'clear sky', 'icon': '01n'}], 'clouds': {'all': 0}, 'wind': {'speed': 8.66, 'deg': 26, 'gust': 10.29}, 'visibility': 10000, 'pop': 0, 'sys': {'pod': 'n'}, 'dt_txt': '2021-04-20 18:00:00'}, {'dt': 1618952400, 'main': {'temp': 291.25, 'feels_like': 290.6, 'temp_min': 291.25, 'temp_max': 291.25, 'pressure': 1018, 'sea_level': 1018, 'grnd_level': 1015, 'humidity': 57, 'temp_kf': 0}, 'weather': [{'id': 800, 'main': 'Clear', 'description': 'clear sky', 'icon': '01n'}], 'clouds': {'all': 0}, 'wind': {'speed': 6.9, 'deg': 22, 'gust': 9.34}, 'visibility': 10000, 'pop': 0, 'sys': {'pod': 'n'}, 'dt_txt': '2021-04-20 21:00:00'}, {'dt': 1618963200, 'main': {'temp': 289.24, 'feels_like': 288.76, 'temp_min': 289.24, 'temp_max': 289.24, 'pressure': 1017, 'sea_level': 1017, 'grnd_level': 1014, 'humidity': 71, 'temp_kf': 0}, 'weather': [{'id': 800, 'main': 'Clear', 'description': 'clear sky', 'icon': '01n'}], 'clouds': {'all': 1}, 'wind': {'speed': 6.27, 'deg': 16, 'gust': 9.18}, 'visibility': 10000, 'pop': 0, 'sys': {'pod': 'n'}, 'dt_txt': '2021-04-21 00:00:00'}, {'dt': 1618974000, 'main': {'temp': 288.28, 'feels_like': 287.81, 'temp_min': 288.28, 'temp_max': 288.28, 'pressure': 1018, 'sea_level': 1018, 'grnd_level': 1015, 'humidity': 75, 'temp_kf': 0}, 'weather': [{'id': 800, 'main': 'Clear', 'description': 'clear sky', 'icon': '01n'}], 'clouds': {'all': 7}, 'wind': {'speed': 5.74, 'deg': 20, 'gust': 8.6}, 'visibility': 10000, 'pop': 0, 'sys': {'pod': 'n'}, 'dt_txt': '2021-04-21 03:00:00'}, {'dt': 1618984800, 'main': {'temp': 291.51, 'feels_like': 290.89, 'temp_min': 291.51, 'temp_max': 291.51, 'pressure': 1019, 'sea_level': 1019, 'grnd_level': 1016, 'humidity': 57, 'temp_kf': 0}, 'weather': [{'id': 800, 'main': 'Clear', 'description': 'clear sky', 'icon': '01d'}], 'clouds': {'all': 7}, 'wind': {'speed': 6.35, 'deg': 24, 'gust': 7.98}, 'visibility': 10000, 'pop': 0, 'sys': {'pod': 'd'}, 'dt_txt': '2021-04-21 06:00:00'}, {'dt': 1618995600, 'main': {'temp': 298.55, 'feels_like': 297.77, 'temp_min': 298.55, 'temp_max': 298.55, 'pressure': 1018, 'sea_level': 1018, 'grnd_level': 1015, 'humidity': 24, 'temp_kf': 0}, 'weather': [{'id': 804, 'main': 'Clouds', 'description': 'overcast clouds', 'icon': '04d'}], 'clouds': {'all': 97}, 'wind': {'speed': 6.52, 'deg': 22, 'gust': 7.28}, 'visibility': 10000, 'pop': 0, 'sys': {'pod': 'd'}, 'dt_txt': '2021-04-21 09:00:00'}, {'dt': 1619006400, 'main': {'temp': 303.83, 'feels_like': 301.82, 'temp_min': 303.83, 'temp_max': 303.83, 'pressure': 1015, 'sea_level': 1015, 'grnd_level': 1013, 'humidity': 13, 'temp_kf': 0}, 'weather': [{'id': 804, 'main': 'Clouds', 'description': 'overcast clouds', 'icon': '04d'}], 'clouds': {'all': 99}, 'wind': {'speed': 6.71, 'deg': 24, 'gust': 7.25}, 'visibility': 10000, 'pop': 0, 'sys': {'pod': 'd'}, 'dt_txt': '2021-04-21 12:00:00'}, {'dt': 1619017200, 'main': {'temp': 301.23, 'feels_like': 299.92, 'temp_min': 301.23, 'temp_max': 301.23, 'pressure': 1016, 'sea_level': 1016, 'grnd_level': 1013, 'humidity': 19, 'temp_kf': 0}, 'weather': [{'id': 804, 'main': 'Clouds', 'description': 'overcast clouds', 'icon': '04d'}], 'clouds': {'all': 91}, 'wind': {'speed': 9.55, 'deg': 49, 'gust': 9.55}, 'visibility': 10000, 'pop': 0, 'sys': {'pod': 'd'}, 'dt_txt': '2021-04-21 15:00:00'}, {'dt': 1619028000, 'main': {'temp': 293.5, 'feels_like': 292.61, 'temp_min': 293.5, 'temp_max': 293.5, 'pressure': 1018, 'sea_level': 1018, 'grnd_level': 1015, 'humidity': 39, 'temp_kf': 0}, 'weather': [{'id': 803, 'main': 'Clouds', 'description': 'broken clouds', 'icon': '04n'}], 'clouds': {'all': 84}, 'wind': {'speed': 8.61, 'deg': 47, 'gust': 11.29}, 'visibility': 10000, 'pop': 0, 'sys': {'pod': 'n'}, 'dt_txt': '2021-04-21 18:00:00'}, {'dt': 1619038800, 'main': {'temp': 290.68, 'feels_like': 289.98, 'temp_min': 290.68, 'temp_max': 290.68, 'pressure': 1019, 'sea_level': 1019, 'grnd_level': 1016, 'humidity': 57, 'temp_kf': 0}, 'weather': [{'id': 802, 'main': 'Clouds', 'description': 'scattered clouds', 'icon': '03n'}], 'clouds': {'all': 50}, 'wind': {'speed': 6.98, 'deg': 32, 'gust': 10.68}, 'visibility': 10000, 'pop': 0, 'sys': {'pod': 'n'}, 'dt_txt': '2021-04-21 21:00:00'}, {'dt': 1619049600, 'main': {'temp': 289.3, 'feels_like': 288.72, 'temp_min': 289.3, 'temp_max': 289.3, 'pressure': 1018, 'sea_level': 1018, 'grnd_level': 1015, 'humidity': 67, 'temp_kf': 0}, 'weather': [{'id': 803, 'main': 'Clouds', 'description': 'broken clouds', 'icon': '04n'}], 'clouds': {'all': 59}, 'wind': {'speed': 6.66, 'deg': 31, 'gust': 10.84}, 'visibility': 10000, 'pop': 0, 'sys': {'pod': 'n'}, 'dt_txt': '2021-04-22 00:00:00'}, {'dt': 1619060400, 'main': {'temp': 288.62, 'feels_like': 288.1, 'temp_min': 288.62, 'temp_max': 288.62, 'pressure': 1018, 'sea_level': 1018, 'grnd_level': 1015, 'humidity': 72, 'temp_kf': 0}, 'weather': [{'id': 803, 'main': 'Clouds', 'description': 'broken clouds', 'icon': '04n'}], 'clouds': {'all': 65}, 'wind': {'speed': 6.42, 'deg': 39, 'gust': 11.53}, 'visibility': 10000, 'pop': 0, 'sys': {'pod': 'n'}, 'dt_txt': '2021-04-22 03:00:00'}, {'dt': 1619071200, 'main': {'temp': 292.91, 'feels_like': 292.19, 'temp_min': 292.91, 'temp_max': 292.91, 'pressure': 1018, 'sea_level': 1018, 'grnd_level': 1015, 'humidity': 48, 'temp_kf': 0}, 'weather': [{'id': 802, 'main': 'Clouds', 'description': 'scattered clouds', 'icon': '03d'}], 'clouds': {'all': 42}, 'wind': {'speed': 7.82, 'deg': 45, 'gust': 10.88}, 'visibility': 10000, 'pop': 0, 'sys': {'pod': 'd'}, 'dt_txt': '2021-04-22 06:00:00'}, {'dt': 1619082000, 'main': {'temp': 300.5, 'feels_like': 299.43, 'temp_min': 300.5, 'temp_max': 300.5, 'pressure': 1017, 'sea_level': 1017, 'grnd_level': 1014, 'humidity': 19, 'temp_kf': 0}, 'weather': [{'id': 803, 'main': 'Clouds', 'description': 'broken clouds', 'icon': '04d'}], 'clouds': {'all': 63}, 'wind': {'speed': 8.36, 'deg': 41, 'gust': 9.67}, 'visibility': 10000, 'pop': 0, 'sys': {'pod': 'd'}, 'dt_txt': '2021-04-22 09:00:00'}, {'dt': 1619092800, 'main': {'temp': 304.61, 'feels_like': 302.46, 'temp_min': 304.61, 'temp_max': 304.61, 'pressure': 1015, 'sea_level': 1015, 'grnd_level': 1012, 'humidity': 13, 'temp_kf': 0}, 'weather': [{'id': 803, 'main': 'Clouds', 'description': 'broken clouds', 'icon': '04d'}], 'clouds': {'all': 74}, 'wind': {'speed': 8.86, 'deg': 43, 'gust': 9.37}, 'visibility': 10000, 'pop': 0, 'sys': {'pod': 'd'}, 'dt_txt': '2021-04-22 12:00:00'}]\n"
     ]
    }
   ],
   "source": [
    "import requests\n",
    "import json\n",
    "\n",
    "url = \"https://community-open-weather-map.p.rapidapi.com/forecast\"\n",
    "\n",
    "querystring = {\"q\":\"Cairo,EG\"}\n",
    "\n",
    "headers = {\n",
    "    'x-rapidapi-key': \"2a9769dc82msh399ea7c7313cd01p1c533cjsne440d55603bb\",\n",
    "    'x-rapidapi-host': \"community-open-weather-map.p.rapidapi.com\"\n",
    "    }\n",
    "\n",
    "response = requests.request(\"GET\", url, headers=headers, params=querystring)\n",
    "\n",
    "\n",
    "\n",
    "p = json.loads(response.text)\n",
    "print(p[\"list\"])"
   ]
  },
  {
   "cell_type": "code",
   "execution_count": null,
   "metadata": {},
   "outputs": [],
   "source": []
  },
  {
   "cell_type": "code",
   "execution_count": null,
   "metadata": {},
   "outputs": [],
   "source": []
  }
 ],
 "metadata": {
  "kernelspec": {
   "display_name": "Python 3",
   "language": "python",
   "name": "python3"
  },
  "language_info": {
   "codemirror_mode": {
    "name": "ipython",
    "version": 3
   },
   "file_extension": ".py",
   "mimetype": "text/x-python",
   "name": "python",
   "nbconvert_exporter": "python",
   "pygments_lexer": "ipython3",
   "version": "3.8.8"
  }
 },
 "nbformat": 4,
 "nbformat_minor": 4
}
