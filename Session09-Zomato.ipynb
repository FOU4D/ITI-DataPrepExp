{
 "cells": [
  {
   "cell_type": "markdown",
   "metadata": {},
   "source": [
    "<img src=\"https://drive.google.com/uc?id=1v7YY_rNBU2OMaPnbUGmzaBj3PUeddxrw\" alt=\"ITI MCIT EPITA\" style=\"width: 750px;\"/>\n",
    "\n",
    "___"
   ]
  },
  {
   "cell_type": "markdown",
   "metadata": {},
   "source": [
    "# Data Preparation & Exploration\n",
    "\n",
    "By: **Mohamed Fouad Fakhruldeen**, mohamed.fakhruldeen@epita.fr\n",
    "____\n",
    "\n",
    "## Session: Practical Work"
   ]
  },
  {
   "cell_type": "markdown",
   "metadata": {},
   "source": [
    "https://www.kaggle.com/shrutimehta/zomato-restaurants-data"
   ]
  },
  {
   "cell_type": "markdown",
   "metadata": {},
   "source": [
    "In this lab, a corpus of 3 files (json, csv, xlsx) based on the Zomato dataset (https://www.kaggle.com/shrutimehta/zomato-restaurants-data) will be used to design a workflow using ETL (Talend). "
   ]
  },
  {
   "cell_type": "markdown",
   "metadata": {},
   "source": [
    "- Restaurant Id: Unique id of every restaurant across various cities of the world\n",
    "- Restaurant Name: Name of the restaurant\n",
    "- Country Code: Country in which restaurant is located\n",
    "- City: City in which restaurant is located\n",
    "- Address: Address of the restaurant\n",
    "- Locality: Location in the city\n",
    "- Locality Verbose: Detailed description of the locality\n",
    "- Longitude: Longitude coordinate of the restaurant's location\n",
    "- Latitude: Latitude coordinate of the restaurant's location\n",
    "- Cuisines: Cuisines offered by the restaurant\n",
    "- Average Cost for two: Cost for two people in different currencies 👫\n",
    "- Currency: Currency of the country\n",
    "- Has Table booking: yes/no\n",
    "- Has Online delivery: yes/ no\n",
    "- Is delivering: yes/ no\n",
    "- Switch to order menu: yes/no\n",
    "- Price range: range of price of food\n",
    "- Aggregate Rating: Average rating out of 5\n",
    "- Rating color: depending upon the average rating color\n",
    "- Rating text: text on the basis of rating of rating\n",
    "- Votes: Number of ratings casted by people"
   ]
  },
  {
   "cell_type": "markdown",
   "metadata": {},
   "source": [
    "you need to work on the following:\n",
    "\n",
    "- Which city has the cheapest restaurants?\n",
    "- Which city has the most expensive restaurants?\n",
    "- Which restaurant has the largest number of votes from the customers?\n",
    "- Which city has restaurants that have the largest number of votes from customers?\n",
    "- Which city has restaurants that are reviewed as excellent by customers the most?"
   ]
  },
  {
   "cell_type": "code",
   "execution_count": null,
   "metadata": {},
   "outputs": [],
   "source": []
  }
 ],
 "metadata": {
  "kernelspec": {
   "display_name": "Python 3",
   "language": "python",
   "name": "python3"
  },
  "language_info": {
   "codemirror_mode": {
    "name": "ipython",
    "version": 3
   },
   "file_extension": ".py",
   "mimetype": "text/x-python",
   "name": "python",
   "nbconvert_exporter": "python",
   "pygments_lexer": "ipython3",
   "version": "3.8.8"
  }
 },
 "nbformat": 4,
 "nbformat_minor": 4
}
